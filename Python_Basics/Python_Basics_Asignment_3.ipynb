{
 "cells": [
  {
   "cell_type": "markdown",
   "id": "9b0d8c39",
   "metadata": {},
   "source": [
    "# Assignment 3 Solutions\n",
    "##### SUBMITTED BY: TEJAS PATIL"
   ]
  },
  {
   "cell_type": "markdown",
   "id": "3164b43e",
   "metadata": {},
   "source": [
    "### 1. Why are functions advantageous to have in your programs?\n",
    "**Ans:** Below are the advantages of functions in programming:\n",
    "\n",
    "Functions reduce the need for duplicate code. This makes programs shorter, easier to read, and easier to update. The main advantage of functions is code Reusability.\n",
    "Increases program readability.\n",
    "Divide a complex problem into simpler ones.\n",
    "Reduces chances of error.\n",
    "Modifying a program becomes easier by using function"
   ]
  },
  {
   "cell_type": "markdown",
   "id": "fa85d688",
   "metadata": {},
   "source": [
    "### 2. When does the code in a function run: when it's specified or when it's called?\n",
    "**Ans:** The code in a function executes when the function is called, not when the function is specified. When a function is \"called\" the program \"leaves\" the current section of code and begins to execute the first line inside the function. Example is mentioned below:\n",
    "\n"
   ]
  },
  {
   "cell_type": "code",
   "execution_count": 1,
   "id": "e13c1321",
   "metadata": {},
   "outputs": [
    {
     "name": "stdout",
     "output_type": "stream",
     "text": [
      "Gaurav iNeuron\n",
      "Sudhanshu iNeuron\n",
      "Krish iNeuron\n"
     ]
    }
   ],
   "source": [
    "def my_function(fname):\n",
    "  print(fname + \" iNeuron\")\n",
    "\n",
    "my_function(\"Gaurav\")\n",
    "my_function(\"Sudhanshu\")\n",
    "my_function(\"Krish\") "
   ]
  },
  {
   "cell_type": "markdown",
   "id": "0b055f89",
   "metadata": {},
   "source": [
    "### 3. What statement creates a function?\n",
    "**Ans:** The def statement defines a function\n",
    "Syntax of Function:<br>\n",
    "def function_name(parameters):<br>\n",
    "    \"\"\"doc string\"\"\"         \n",
    "    -----function body-----<br>\n",
    "    -----function body-----<br>\n",
    "    return value"
   ]
  },
  {
   "cell_type": "code",
   "execution_count": 2,
   "id": "cf0d0fc9",
   "metadata": {},
   "outputs": [
    {
     "name": "stdout",
     "output_type": "stream",
     "text": [
      "Tejas iNeuron\n",
      "Sudhanshu iNeuron\n",
      "Krish iNeuron\n"
     ]
    }
   ],
   "source": [
    "def my_function(fname):\n",
    "  print(fname + \" iNeuron\")\n",
    "\n",
    "my_function(\"Tejas\")\n",
    "my_function(\"Sudhanshu\")\n",
    "my_function(\"Krish\") "
   ]
  },
  {
   "cell_type": "markdown",
   "id": "8d28c845",
   "metadata": {},
   "source": [
    "### 4. What is the difference between a function and a function call?\n",
    "**Ans:** A function is a block of code that does a particular operation and returns a result. It usually accepts inputs as parameters and returns a result. The parameters are not mandatory. A function call is the code used to pass control to a function."
   ]
  },
  {
   "cell_type": "code",
   "execution_count": 3,
   "id": "171648ed",
   "metadata": {},
   "outputs": [
    {
     "data": {
      "text/plain": [
       "16"
      ]
     },
     "execution_count": 3,
     "metadata": {},
     "output_type": "execute_result"
    }
   ],
   "source": [
    "#Function\n",
    "def square(x):\n",
    "  \treturn x*x\n",
    "#Function Call\n",
    "(square(4))"
   ]
  },
  {
   "cell_type": "markdown",
   "id": "7c0fce30",
   "metadata": {},
   "source": [
    "### 5. How many global scopes are there in a Python program? How many local scopes?\n",
    "**Ans:** There is one global scope, and a local scope is created whenever a function is called. A variable created inside a function belongs to the local scope of that function, and can only be used inside that function whereas A variable created in the main body of the Python code is a global variable and belongs to the global scope."
   ]
  },
  {
   "cell_type": "code",
   "execution_count": 5,
   "id": "c1374373",
   "metadata": {},
   "outputs": [
    {
     "name": "stdout",
     "output_type": "stream",
     "text": [
      "300\n"
     ]
    }
   ],
   "source": [
    "#Example of Local Scope\n",
    "def myfunc():\n",
    "  x = 300\n",
    "  def myinnerfunc():\n",
    "    print(x)\n",
    "  myinnerfunc()\n",
    "\n",
    "myfunc() "
   ]
  },
  {
   "cell_type": "code",
   "execution_count": 6,
   "id": "278eb237",
   "metadata": {},
   "outputs": [
    {
     "name": "stdout",
     "output_type": "stream",
     "text": [
      "300\n"
     ]
    }
   ],
   "source": [
    "#Example of Global Scope\n",
    "x = 300\n",
    "\n",
    "def myfunc():\n",
    "  print(x)\n",
    "\n",
    "myfunc()\n"
   ]
  },
  {
   "cell_type": "markdown",
   "id": "2022918c",
   "metadata": {},
   "source": [
    "### 6. What happens to variables in a local scope when the function call returns?\n",
    "**Ans:** When a function returns, the local scope is destroyed, and all the variables in it are forgotten. A local variable becomes undefined after the function call completes."
   ]
  },
  {
   "cell_type": "markdown",
   "id": "23e30741",
   "metadata": {},
   "source": [
    "### 7. What is the concept of a return value? Is it possible to have a return value in an expression?\n",
    "**Ans:** The Python return statement is a key component of functions and methods. We can use the return statement to make functions send Python objects back to the caller code. These objects are known as the function’s return value. A return value is the value that a function call evaluates to. Like any value, a return value can be used as part of an expression."
   ]
  },
  {
   "cell_type": "markdown",
   "id": "468e52b9",
   "metadata": {},
   "source": [
    "### 8. If a function does not have a return statement, what is the return value of a call to that function?\n",
    "**Ans**: If there is no return statement for a function, its return value is None. The function always returns None if explicit return is not written.\n",
    "\n",
    "### 9. How do you make a function variable refer to the global variable?\n",
    "**Ans:** A global statement will force a variable in a function to refer to the global variable. If you want to refer to a global variable in a function, you can use the global keyword to declare which variables are global.\n",
    "\n",
    "### 10. What is the data type of None?\n",
    "**Ans:** The data type of None is NoneType.\n",
    "\n",
    "### 11. What does the sentence import areallyourpetsnamederic do?\n",
    "**Ans:** That import statement imports a module named areallyourpetsnamederic.\n",
    "\n",
    "### 12. If you had a bacon() feature in a spam module, what would you call it after importing spam?\n",
    "**Ans:** This function can be called with spam.bacon().\n",
    "\n",
    "### 13. What can you do to save a programme from crashing if it encounters an error?\n",
    "**Ans:** We can place the line of code that might cause an error in a try clause and use except block to handle the error as mentioned below:"
   ]
  },
  {
   "cell_type": "code",
   "execution_count": 14,
   "id": "dedff7d6",
   "metadata": {},
   "outputs": [
    {
     "name": "stdout",
     "output_type": "stream",
     "text": [
      "700\n"
     ]
    }
   ],
   "source": [
    "try:\n",
    "  print(x)\n",
    "except:\n",
    "  print(\"An exception occurred\") "
   ]
  },
  {
   "cell_type": "markdown",
   "id": "f3c7ff76",
   "metadata": {},
   "source": [
    "### 14. What is the purpose of the try clause? What is the purpose of the except clause?\n",
    "**ANS:** The code that could potentially cause an error goes in the try clause. The code that executes if an error happens goes in the except clause."
   ]
  },
  {
   "cell_type": "code",
   "execution_count": 16,
   "id": "8a812ff4",
   "metadata": {},
   "outputs": [
    {
     "name": "stdout",
     "output_type": "stream",
     "text": [
      "700\n"
     ]
    }
   ],
   "source": [
    "x = 700\n",
    "try:\n",
    "  print(x)\n",
    "except NameError:\n",
    "  print(\"Variable x is not defined\")\n",
    "except:\n",
    "  print(\"Something else went wrong\") "
   ]
  },
  {
   "cell_type": "code",
   "execution_count": null,
   "id": "2fc0d6dc",
   "metadata": {},
   "outputs": [],
   "source": []
  }
 ],
 "metadata": {
  "kernelspec": {
   "display_name": "Python 3",
   "language": "python",
   "name": "python3"
  },
  "language_info": {
   "codemirror_mode": {
    "name": "ipython",
    "version": 3
   },
   "file_extension": ".py",
   "mimetype": "text/x-python",
   "name": "python",
   "nbconvert_exporter": "python",
   "pygments_lexer": "ipython3",
   "version": "3.8.8"
  }
 },
 "nbformat": 4,
 "nbformat_minor": 5
}
